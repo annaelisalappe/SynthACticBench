{
 "cells": [
  {
   "cell_type": "code",
   "execution_count": 3,
   "metadata": {},
   "outputs": [
    {
     "name": "stdout",
     "output_type": "stream",
     "text": [
      "{'benchmark_id': 'OptBench', 'problem_id': 'Ackley-2', 'problem': {'_target_': 'optbench.optbench_problem.OptBenchProblem', 'function': {'_target_': 'optbench.functions.Ackley', 'dim': 2, 'seed': '${seed}'}}, 'task': {'n_trials': 77, 'time_budget': None, 'n_workers': 1, 'n_objectives': 1, 'objectives': ['quality'], 'is_multifidelity': False, 'fidelity_type': None, 'min_budget': None, 'max_budget': None, 'has_constraints': False, 'domain': 'synthetic', 'objective_function_approximation': 'real', 'has_virtual_time': False, 'deterministic': True, 'dimensions': 2, 'search_space_n_categoricals': 0, 'search_space_n_ordinals': 0, 'search_space_n_integers': 0, 'search_space_n_floats': 2, 'search_space_has_conditionals': False, 'search_space_has_forbiddens': False, 'search_space_has_priors': False}}\n",
      "{'benchmark_id': 'OptBench', 'problem_id': 'Ackley-5', 'problem': {'_target_': 'optbench.optbench_problem.OptBenchProblem', 'function': {'_target_': 'optbench.functions.Ackley', 'dim': 5, 'seed': '${seed}'}}, 'task': {'n_trials': 110, 'time_budget': None, 'n_workers': 1, 'n_objectives': 1, 'objectives': ['quality'], 'is_multifidelity': False, 'fidelity_type': None, 'min_budget': None, 'max_budget': None, 'has_constraints': False, 'domain': 'synthetic', 'objective_function_approximation': 'real', 'has_virtual_time': False, 'deterministic': True, 'dimensions': 5, 'search_space_n_categoricals': 0, 'search_space_n_ordinals': 0, 'search_space_n_integers': 0, 'search_space_n_floats': 5, 'search_space_has_conditionals': False, 'search_space_has_forbiddens': False, 'search_space_has_priors': False}}\n",
      "{'benchmark_id': 'OptBench', 'problem_id': 'Ackley-10', 'problem': {'_target_': 'optbench.optbench_problem.OptBenchProblem', 'function': {'_target_': 'optbench.functions.Ackley', 'dim': 10, 'seed': '${seed}'}}, 'task': {'n_trials': 147, 'time_budget': None, 'n_workers': 1, 'n_objectives': 1, 'objectives': ['quality'], 'is_multifidelity': False, 'fidelity_type': None, 'min_budget': None, 'max_budget': None, 'has_constraints': False, 'domain': 'synthetic', 'objective_function_approximation': 'real', 'has_virtual_time': False, 'deterministic': True, 'dimensions': 10, 'search_space_n_categoricals': 0, 'search_space_n_ordinals': 0, 'search_space_n_integers': 0, 'search_space_n_floats': 10, 'search_space_has_conditionals': False, 'search_space_has_forbiddens': False, 'search_space_has_priors': False}}\n",
      "{'benchmark_id': 'OptBench', 'problem_id': 'Levy-2', 'problem': {'_target_': 'optbench.optbench_problem.OptBenchProblem', 'function': {'_target_': 'optbench.functions.Levy', 'dim': 2, 'seed': '${seed}'}}, 'task': {'n_trials': 77, 'time_budget': None, 'n_workers': 1, 'n_objectives': 1, 'objectives': ['quality'], 'is_multifidelity': False, 'fidelity_type': None, 'min_budget': None, 'max_budget': None, 'has_constraints': False, 'domain': 'synthetic', 'objective_function_approximation': 'real', 'has_virtual_time': False, 'deterministic': True, 'dimensions': 2, 'search_space_n_categoricals': 0, 'search_space_n_ordinals': 0, 'search_space_n_integers': 0, 'search_space_n_floats': 2, 'search_space_has_conditionals': False, 'search_space_has_forbiddens': False, 'search_space_has_priors': False}}\n",
      "{'benchmark_id': 'OptBench', 'problem_id': 'Levy-5', 'problem': {'_target_': 'optbench.optbench_problem.OptBenchProblem', 'function': {'_target_': 'optbench.functions.Levy', 'dim': 5, 'seed': '${seed}'}}, 'task': {'n_trials': 110, 'time_budget': None, 'n_workers': 1, 'n_objectives': 1, 'objectives': ['quality'], 'is_multifidelity': False, 'fidelity_type': None, 'min_budget': None, 'max_budget': None, 'has_constraints': False, 'domain': 'synthetic', 'objective_function_approximation': 'real', 'has_virtual_time': False, 'deterministic': True, 'dimensions': 5, 'search_space_n_categoricals': 0, 'search_space_n_ordinals': 0, 'search_space_n_integers': 0, 'search_space_n_floats': 5, 'search_space_has_conditionals': False, 'search_space_has_forbiddens': False, 'search_space_has_priors': False}}\n",
      "{'benchmark_id': 'OptBench', 'problem_id': 'Levy-10', 'problem': {'_target_': 'optbench.optbench_problem.OptBenchProblem', 'function': {'_target_': 'optbench.functions.Levy', 'dim': 10, 'seed': '${seed}'}}, 'task': {'n_trials': 147, 'time_budget': None, 'n_workers': 1, 'n_objectives': 1, 'objectives': ['quality'], 'is_multifidelity': False, 'fidelity_type': None, 'min_budget': None, 'max_budget': None, 'has_constraints': False, 'domain': 'synthetic', 'objective_function_approximation': 'real', 'has_virtual_time': False, 'deterministic': True, 'dimensions': 10, 'search_space_n_categoricals': 0, 'search_space_n_ordinals': 0, 'search_space_n_integers': 0, 'search_space_n_floats': 10, 'search_space_has_conditionals': False, 'search_space_has_forbiddens': False, 'search_space_has_priors': False}}\n",
      "{'benchmark_id': 'OptBench', 'problem_id': 'Schwefel-2', 'problem': {'_target_': 'optbench.optbench_problem.OptBenchProblem', 'function': {'_target_': 'optbench.functions.Schwefel', 'dim': 2, 'seed': '${seed}'}}, 'task': {'n_trials': 77, 'time_budget': None, 'n_workers': 1, 'n_objectives': 1, 'objectives': ['quality'], 'is_multifidelity': False, 'fidelity_type': None, 'min_budget': None, 'max_budget': None, 'has_constraints': False, 'domain': 'synthetic', 'objective_function_approximation': 'real', 'has_virtual_time': False, 'deterministic': True, 'dimensions': 2, 'search_space_n_categoricals': 0, 'search_space_n_ordinals': 0, 'search_space_n_integers': 0, 'search_space_n_floats': 2, 'search_space_has_conditionals': False, 'search_space_has_forbiddens': False, 'search_space_has_priors': False}}\n",
      "{'benchmark_id': 'OptBench', 'problem_id': 'Schwefel-5', 'problem': {'_target_': 'optbench.optbench_problem.OptBenchProblem', 'function': {'_target_': 'optbench.functions.Schwefel', 'dim': 5, 'seed': '${seed}'}}, 'task': {'n_trials': 110, 'time_budget': None, 'n_workers': 1, 'n_objectives': 1, 'objectives': ['quality'], 'is_multifidelity': False, 'fidelity_type': None, 'min_budget': None, 'max_budget': None, 'has_constraints': False, 'domain': 'synthetic', 'objective_function_approximation': 'real', 'has_virtual_time': False, 'deterministic': True, 'dimensions': 5, 'search_space_n_categoricals': 0, 'search_space_n_ordinals': 0, 'search_space_n_integers': 0, 'search_space_n_floats': 5, 'search_space_has_conditionals': False, 'search_space_has_forbiddens': False, 'search_space_has_priors': False}}\n",
      "{'benchmark_id': 'OptBench', 'problem_id': 'Schwefel-10', 'problem': {'_target_': 'optbench.optbench_problem.OptBenchProblem', 'function': {'_target_': 'optbench.functions.Schwefel', 'dim': 10, 'seed': '${seed}'}}, 'task': {'n_trials': 147, 'time_budget': None, 'n_workers': 1, 'n_objectives': 1, 'objectives': ['quality'], 'is_multifidelity': False, 'fidelity_type': None, 'min_budget': None, 'max_budget': None, 'has_constraints': False, 'domain': 'synthetic', 'objective_function_approximation': 'real', 'has_virtual_time': False, 'deterministic': True, 'dimensions': 10, 'search_space_n_categoricals': 0, 'search_space_n_ordinals': 0, 'search_space_n_integers': 0, 'search_space_n_floats': 10, 'search_space_has_conditionals': False, 'search_space_has_forbiddens': False, 'search_space_has_priors': False}}\n"
     ]
    }
   ],
   "source": [
    "from omegaconf import DictConfig, OmegaConf\n",
    "import inspect\n",
    "\n",
    "import shutil\n",
    "import numpy as np\n",
    "\n",
    "from pathlib import Path\n",
    "from dataclasses import asdict\n",
    "from carps.utils.task import Task\n",
    "\n",
    "from optbench import functions\n",
    "from optbench.abstract_function import AbstractFunction\n",
    "\n",
    "def fullname(o):\n",
    "    try:\n",
    "        # if o is a class or function, get module directly\n",
    "        module = o.__module__\n",
    "    except AttributeError:\n",
    "        # then get module from o's class\n",
    "        module = o.__class__.__module__\n",
    "    try:\n",
    "        # if o is a class or function, get name directly\n",
    "        name = o.__qualname__\n",
    "    except AttributeError:\n",
    "        # then get o's class name\n",
    "        name = o.__class__.__qualname__\n",
    "    # if o is a method of builtin class, then module will be None\n",
    "    if module == 'builtins' or module is None:\n",
    "        return name\n",
    "    return module + '.' + name\n",
    "\n",
    "base_path = Path(\"../optbench/configs/problem\")\n",
    "\n",
    "# Problem ids\n",
    "benchmark_id = \"OptBench\"\n",
    "\n",
    "# from YAHPO paper\n",
    "def get_n_trials(dimension: int) -> int:\n",
    "    return int(np.ceil(20 + 40 * np.sqrt(dimension)))\n",
    "\n",
    "######################\n",
    "\n",
    "# Generate configs for synthetic functions\n",
    "\n",
    "target_path = base_path / benchmark_id\n",
    "if target_path.is_dir():\n",
    "    shutil.rmtree(str(target_path))\n",
    "target_path.mkdir(parents=True, exist_ok=True)\n",
    "\n",
    "problem_class = \"optbench.optbench_problem.OptBenchProblem\"\n",
    "\n",
    "function_classes = [\n",
    "    c[1]\n",
    "    for c in inspect.getmembers(functions, inspect.isclass)\n",
    "    if issubclass(c[1], AbstractFunction) and c[1] != AbstractFunction\n",
    "]\n",
    "dimensions = [2, 5, 10]\n",
    "\n",
    "identifiers = []\n",
    "for function_class in function_classes:\n",
    "    for dim in dimensions:\n",
    "        problem_id = f\"{function_class.__name__}-{dim}\"\n",
    "        task = Task(\n",
    "            dimensions=dim,\n",
    "            n_trials=get_n_trials(dim),\n",
    "            time_budget=None,\n",
    "            n_workers=1,\n",
    "            n_objectives=1,\n",
    "            objectives=[\"quality\"],\n",
    "            is_multifidelity=False,\n",
    "            fidelity_type=None,\n",
    "            min_budget=None,\n",
    "            max_budget=None,\n",
    "            has_constraints=False,\n",
    "            domain=\"synthetic\",\n",
    "            objective_function_approximation=\"real\",\n",
    "            has_virtual_time=False,\n",
    "            deterministic=True,\n",
    "            search_space_n_categoricals=0,\n",
    "            search_space_n_ordinals=0,\n",
    "            search_space_n_integers=0,\n",
    "            search_space_n_floats=dim,\n",
    "            search_space_has_conditionals=False,\n",
    "            search_space_has_forbiddens=False,\n",
    "            search_space_has_priors=False\n",
    "        )\n",
    "        cfg = DictConfig(\n",
    "            {\n",
    "                \"benchmark_id\": benchmark_id,\n",
    "                \"problem_id\": problem_id,\n",
    "                \"problem\": {\n",
    "                    \"_target_\": problem_class,\n",
    "                    \"function\": {\n",
    "                        \"_target_\": fullname(function_class),\n",
    "                        \"dim\": dim,\n",
    "                        \"seed\": \"${seed}\",\n",
    "                    },\n",
    "                },\n",
    "                \"task\": asdict(task)\n",
    "            }\n",
    "        )\n",
    "        identifier = f\"{function_class.__name__}_{dim}\"\n",
    "        identifiers.append(identifier)\n",
    "        fn = target_path / (identifier + \".yaml\")\n",
    "        yaml_str = OmegaConf.to_yaml(cfg=cfg)\n",
    "        yaml_str = \"# @package _global_\\n\" + yaml_str\n",
    "        fn.write_text(yaml_str)\n",
    "        print(cfg)"
   ]
  },
  {
   "cell_type": "code",
   "execution_count": 6,
   "metadata": {},
   "outputs": [
    {
     "data": {
      "text/plain": [
       "'synth_Ackley_2,synth_Ackley_5,synth_Ackley_10,synth_Levy_2,synth_Levy_5,synth_Levy_10,synth_Schwefel_2,synth_Schwefel_5,synth_Schwefel_10'"
      ]
     },
     "execution_count": 6,
     "metadata": {},
     "output_type": "execute_result"
    }
   ],
   "source": [
    "\",\".join(identifiers)"
   ]
  }
 ],
 "metadata": {
  "kernelspec": {
   "display_name": "Python 3",
   "language": "python",
   "name": "python3"
  },
  "language_info": {
   "codemirror_mode": {
    "name": "ipython",
    "version": 3
   },
   "file_extension": ".py",
   "mimetype": "text/x-python",
   "name": "python",
   "nbconvert_exporter": "python",
   "pygments_lexer": "ipython3",
   "version": "3.12.4"
  }
 },
 "nbformat": 4,
 "nbformat_minor": 2
}
